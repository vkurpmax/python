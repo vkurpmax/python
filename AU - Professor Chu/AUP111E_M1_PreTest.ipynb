{
  "nbformat": 4,
  "nbformat_minor": 0,
  "metadata": {
    "colab": {
      "provenance": [],
      "collapsed_sections": [],
      "include_colab_link": true
    },
    "kernelspec": {
      "name": "python3",
      "display_name": "Python 3"
    },
    "language_info": {
      "name": "python"
    }
  },
  "cells": [
    {
      "cell_type": "markdown",
      "metadata": {
        "id": "view-in-github",
        "colab_type": "text"
      },
      "source": [
        "<a href=\"https://colab.research.google.com/github/vkurpmax/python/blob/master/AU%20-%20Professor%20Chu/AUP111E_M1_PreTest.ipynb\" target=\"_parent\"><img src=\"https://colab.research.google.com/assets/colab-badge.svg\" alt=\"Open In Colab\"/></a>"
      ]
    },
    {
      "cell_type": "markdown",
      "metadata": {
        "id": "LSPxJEGx7gCB"
      },
      "source": [
        "# 2022 Oct.12 AU Python Programming-110-M1 PreTest"
      ]
    },
    {
      "cell_type": "markdown",
      "metadata": {
        "id": "2CZwc43_60Ug"
      },
      "source": [
        "### 0 Unit conversion: height and weight \n",
        "\n",
        "Problem Description:\n",
        "\n",
        "The user inputs height (cm) and weight (kg), converts the output height (inch) and weight (lb) into units. (1 lb=0.454 kg, 1 inch=2.54 cm)\n",
        "\n",
        "Input Description: \n",
        "\n",
        "Input height (cm)(int) and weight (kg)(int). \n",
        "\n",
        "Output Description:\n",
        "\n",
        "The unit conversion outputs height (inch) (float to the first decimal place) and weight (pound) (float to the first decimal place), and a newline character is required at the end.\n",
        "\n",
        "Example: \n",
        "\n",
        "| Sample Input:   |      Sample Output:      |\n",
        "|:----------------|:-------------------------|\n",
        "|180 85|70.9 <br>187.2⏎ |\n",
        "|170 60|66.9 <br>132.2⏎ |\n"
      ]
    },
    {
      "cell_type": "code",
      "metadata": {
        "id": "AA73JFPM7cxG"
      },
      "source": [
        "#input 1\n"
      ],
      "execution_count": null,
      "outputs": []
    },
    {
      "cell_type": "code",
      "metadata": {
        "id": "mExG5odM7egh"
      },
      "source": [
        "#input 2\n"
      ],
      "execution_count": null,
      "outputs": []
    },
    {
      "cell_type": "markdown",
      "metadata": {
        "id": "cRDecSL7ak6P"
      },
      "source": [
        "### A: Unit conversion: kilometres to miles\n",
        "\n",
        "Problem Description:\n",
        "Try to write a program, you can enter kilometres (float) by keyboard, the output of the program is miles (float), the conversion formula is as follows: 1 kilometre= 0.62137 miles\n",
        "\n",
        "Input Description: \n",
        "Enter the number of kilometres you want to convert (float). \n",
        "\n",
        "Output Description:\n",
        "Output miles (float), take to the first decimal place, there must be a newline character at the end.\n",
        "\n",
        "Example: \n",
        "\n",
        "\n",
        "| Sample Input:   |      Sample Output:      |\n",
        "|:----------------|:-------------------------|\n",
        "|100|62.1⏎ |\n",
        "|500|310.7⏎ |"
      ]
    },
    {
      "cell_type": "code",
      "metadata": {
        "id": "MLP5Kdr8myXC"
      },
      "source": [
        "#input 1\n"
      ],
      "execution_count": null,
      "outputs": []
    },
    {
      "cell_type": "code",
      "metadata": {
        "id": "O34ePn9sqNQ_"
      },
      "source": [
        "#input 2\n"
      ],
      "execution_count": null,
      "outputs": []
    },
    {
      "cell_type": "markdown",
      "metadata": {
        "id": "bKL700P0ZboQ"
      },
      "source": [
        "### B:String cutting \n",
        "\n",
        "Problem Description:\n",
        "\n",
        "The user enters a paragraph of text and a symbol for cutting, and the program will cut into number substrings according to the specified symbol.\n",
        "\n",
        "Input Description:\n",
        "\n",
        "Enter the text string (String) and the cutting symbol (string) respectively.\n",
        "\n",
        "Output Description:\n",
        "\n",
        "After cutting through the cutting symbol, each string is displayed in one column, and there must be a newline character at the end.\n",
        "\n",
        "Example:\n",
        "\n",
        "\n",
        "| Sample Input:   |      Sample Output:      |\n",
        "|:----------------|:-------------------------|\n",
        "|asia@#@japan@#@taiwan@#@taipei @#@|asia |\n",
        "|   |japan|\n",
        "|   |taiwan|\n",
        "||taipei⏎ |"
      ]
    },
    {
      "cell_type": "code",
      "metadata": {
        "id": "h-cOLrtUrrPe"
      },
      "source": [
        "#input 1\n"
      ],
      "execution_count": null,
      "outputs": []
    },
    {
      "cell_type": "markdown",
      "metadata": {
        "id": "-rXNZTf3ZTtW"
      },
      "source": [
        "###C: Total score and average \n",
        "\n",
        "\n",
        "Problem Description: \n",
        "\n",
        "Enter the scores of Chinese, English, and mathematics, and calculate the total score and average score.\n",
        "\n",
        "Input Description:\n",
        "\n",
        "Enter the scores in Chinese (int), English (int) and mathematics (int).\n",
        "\n",
        "Output Description:\n",
        "\n",
        "Output the total score and the rounded average to the first decimal place, with a newline character at the end.\n",
        "\n",
        "Example:\n",
        "\n",
        "\n",
        "| Sample Input:   |      Sample Output:      |\n",
        "|:----------------|:-------------------------|\n",
        "|82 77 68| 227|\n",
        "||75.7⏎ |"
      ]
    },
    {
      "cell_type": "code",
      "metadata": {
        "id": "MxgfDdx5szGh"
      },
      "source": [
        "#input 1\n"
      ],
      "execution_count": null,
      "outputs": []
    },
    {
      "cell_type": "markdown",
      "metadata": {
        "id": "Z6QOpRxhbsNl"
      },
      "source": [
        "### D: Digital encryption\n",
        "\n",
        "Problem Description: \n",
        "\n",
        "Enter a three-digit number and encrypt it in the following way\n",
        "1.\tFor each digit, to add 6 and divide by 10 to get the remainder to replace the corresponding original digit.\n",
        "2.\tSwap the number of the first digit with the number of the third digit\n",
        "\n",
        "Input Description:\n",
        "\n",
        "Enter a three-digit string (String).\n",
        "\n",
        "Output Description:\n",
        "\n",
        "Output the encrypted number string (String), there must be a newline character at the end.\n",
        "\n",
        "Example: \n",
        "\n",
        "| Sample Input:   |      Sample Output:      |\n",
        "|:----------------|:-------------------------|\n",
        "|123|987⏎ |\n",
        "|456|210⏎ |"
      ]
    },
    {
      "cell_type": "code",
      "metadata": {
        "id": "LkJ0uffFt6qJ"
      },
      "source": [
        "#input 1\n"
      ],
      "execution_count": null,
      "outputs": []
    },
    {
      "cell_type": "code",
      "metadata": {
        "id": "2SZFBtDWu7yM"
      },
      "source": [
        "#input 2\n"
      ],
      "execution_count": null,
      "outputs": []
    },
    {
      "cell_type": "markdown",
      "metadata": {
        "id": "8hDpWYkOZuoW"
      },
      "source": [
        "### E: Cylinder volume calculation \n",
        "\n",
        "Problem Description: \n",
        "\n",
        "Please write a program for the user to input the radius (float) and height (float) of the circle, and the program outputs the volume (float) of the circle.  π×r2×h\n",
        "\n",
        "Input Description:\n",
        "\n",
        "Enter the radius (float) and height (float).\n",
        "\n",
        "Output Description:\n",
        "Output the rounded volume to the first decimal place, and there must be a newline character at the end.\n",
        "\n",
        "Example:\n",
        "\n",
        "\t\n",
        "| Sample Input:   |      Sample Output:      |\n",
        "|:----------------|:-------------------------|\n",
        "|18.9  12|13466.5⏎ |\n",
        "|3.2 12|386.0⏎ |"
      ]
    },
    {
      "cell_type": "code",
      "metadata": {
        "id": "qLytoHGdwLJr"
      },
      "source": [
        "#input 1\n"
      ],
      "execution_count": null,
      "outputs": []
    },
    {
      "cell_type": "code",
      "metadata": {
        "id": "Z77hYtfnwgid"
      },
      "source": [
        "#input 2\n"
      ],
      "execution_count": null,
      "outputs": []
    },
    {
      "cell_type": "markdown",
      "metadata": {
        "id": "1rdvCnAYbVLx"
      },
      "source": [
        "### F: Standard weight calculation\n",
        "\n",
        "Problem Description: \n",
        "\n",
        "It is known that the standard weight of boys=(height-80)×0.7; the standard weight of girls=(height-70)×0.6; try to write a program to calculate the standard weight of boys and girls\n",
        "\n",
        "Input Description:\n",
        "\n",
        "Enter two values, which are represented by height (int) and gender (int) in order (1 for male; 2 for female).\n",
        "\n",
        "Output Description:\n",
        "\n",
        "Output the standard weight, the floating point number (float) is taken to the first place, and there must be a newline character at the end.\n",
        "\n",
        "Example:\n",
        "\n",
        "\n",
        "| Sample Input:   |      Sample Output:      |\n",
        "|:----------------|:-------------------------|\n",
        "|172  1|64.4⏎|\n",
        "|165  2|57.0⏎|"
      ]
    },
    {
      "cell_type": "code",
      "metadata": {
        "id": "UwO6J-S8x5I9"
      },
      "source": [
        "#input 1\n"
      ],
      "execution_count": null,
      "outputs": []
    },
    {
      "cell_type": "code",
      "metadata": {
        "id": "CUwpWjQbyWGK"
      },
      "source": [
        "#input 2\n"
      ],
      "execution_count": null,
      "outputs": []
    },
    {
      "cell_type": "markdown",
      "metadata": {
        "id": "7um54VyQZx8k"
      },
      "source": [
        "### G: Change problem\n",
        "\n",
        "\n",
        "Problem Description:\n",
        "\n",
        "Suppose there are three types of coins: 1-dollar, 5-dollar, and 50-dollar. Ken's mother asked Ken to buy fruit at the marketplace, and gave Ken n dollars to buy fruits. An apple is 15 dollars, an orange is 20 dollars, and a peach is 30 dollars. How many coins does Ken get after buying the fruits?  The number of coins is the least.\n",
        "\n",
        "Input Description: \n",
        "\n",
        "The degree of power used (int).\n",
        "\n",
        "Output Description:\n",
        "\n",
        "List the total number of 1-dollar, 5-dollar and 50-dollar. If the money you bring is not enough to buy fruits, it will display \"0\", and there must be a newline character at the end.\n",
        "\n",
        "Example:\n",
        "\n",
        "| Sample Input:   |      Sample Output:      |\n",
        "|:----------------|:-------------------------|\n",
        "|600  1  2  3|0|\n",
        "||1|\n",
        "||9⏎|"
      ]
    },
    {
      "cell_type": "code",
      "metadata": {
        "id": "KJ6ZLpKAzen5"
      },
      "source": [
        "#input 1\n"
      ],
      "execution_count": null,
      "outputs": []
    },
    {
      "cell_type": "markdown",
      "metadata": {
        "id": "PiEB2e3XZ2vI"
      },
      "source": [
        "### H: Triangle classification\n",
        "\n",
        "Problem Description:\n",
        "\n",
        "The user enters the three side lengths a, b, c (and a≤b≤c) of a legal triangle, determines and outputs the triangle as \"Right triangle\", \"Obtuse triangle\", or \"Acute triangle\".\n",
        "\n",
        "Judgment method:\n",
        "\n",
        "Assuming that the three sides of a triangle are a, b, c, where c is the longest side length, calculate \n",
        "\n",
        "if $a^2+b^2<c^2$ (the square of a plus the square of b is less than the square of c), then the obtuse triangle is the angle corresponding to c.\n",
        "\n",
        "If $a^2+b^2=c^2$ (the square of a plus the square of b is equal to the square of c), then the right angle of a right triangle is at the angle corresponding to c.\n",
        "\n",
        "If $a^2+b^2>c^2$ (the square of a plus the square of b is greater than the square of c), it is an acute triangle. The angles corresponding to the three sides of a, b, and c are all acute.\n",
        "\n",
        "Input Description:\n",
        "\n",
        "Enter the length of the three sides of a legal triangle a (int), b (int), c(int) (and $a≤ b≤ c$ ).\n",
        "\n",
        "Output Description:\n",
        "\n",
        "Determine and output that the triangle is \"right triangle\", \"obtuse triangle\", or \"acute triangle\", and there must be linefeed characters at the end.\n",
        "\n",
        "Example: \n",
        "\n",
        "\n",
        "| Sample Input:   |      Sample Output:      |\n",
        "|:----------------|:-------------------------|\n",
        "|3 4 5\t|Right triangle⏎ |\n",
        "|2 3 4\t|Obtuse triangle⏎ |\n",
        "|4 5 6  |Acute triangle⏎ |"
      ]
    },
    {
      "cell_type": "code",
      "metadata": {
        "id": "EXNfqz0X04pZ"
      },
      "source": [
        "#input 1\n"
      ],
      "execution_count": null,
      "outputs": []
    },
    {
      "cell_type": "code",
      "metadata": {
        "id": "wOwCTRbo02o8"
      },
      "source": [
        "#input 2\n"
      ],
      "execution_count": null,
      "outputs": []
    },
    {
      "cell_type": "code",
      "metadata": {
        "id": "eAX8zxrE_PGs"
      },
      "source": [
        "#input 3"
      ],
      "execution_count": null,
      "outputs": []
    }
  ]
}