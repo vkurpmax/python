{
  "nbformat": 4,
  "nbformat_minor": 0,
  "metadata": {
    "colab": {
      "provenance": [],
      "collapsed_sections": [],
      "include_colab_link": true
    },
    "kernelspec": {
      "name": "python3",
      "display_name": "Python 3"
    },
    "language_info": {
      "name": "python"
    }
  },
  "cells": [
    {
      "cell_type": "markdown",
      "metadata": {
        "id": "view-in-github",
        "colab_type": "text"
      },
      "source": [
        "<a href=\"https://colab.research.google.com/github/vkurpmax/python/blob/master/AU%20-%20Professor%20Chu/AUP111E_M1_Test.ipynb\" target=\"_parent\"><img src=\"https://colab.research.google.com/assets/colab-badge.svg\" alt=\"Open In Colab\"/></a>"
      ]
    },
    {
      "cell_type": "markdown",
      "metadata": {
        "id": "LSPxJEGx7gCB"
      },
      "source": [
        "# 2022 Oct.19 AU Python Programming-110-M1 Test"
      ]
    },
    {
      "cell_type": "markdown",
      "metadata": {
        "id": "cRDecSL7ak6P"
      },
      "source": [
        "### A: \n",
        "Sum, difference and product\n",
        "(Time limit: 2 seconds)\n",
        "\n",
        "__Problem Description:__\n",
        "Enter two integers and calculate their sum, difference, product, quotient, and remainder.\n",
        "\n",
        "__Input description:__\n",
        "Enter two integers (int).\n",
        "\n",
        "__Output description:__\n",
        "Output the sum (int), difference (int) and product (int) of two integers, and there must be a newline character at the end.\n",
        "\n",
        "example:\n",
        "\n",
        "| Sample Input:   |      Sample Output:      |\n",
        "|:----------------|:-------------------------|\n",
        "|5 11   |5+11=16 |\n",
        "|   |5-11=-6|\n",
        "||5*11=55 |\n",
        "||5/11=0...5⏎ |"
      ]
    },
    {
      "cell_type": "code",
      "metadata": {
        "id": "MLP5Kdr8myXC"
      },
      "source": [
        "#input 1\n"
      ],
      "execution_count": null,
      "outputs": []
    },
    {
      "cell_type": "markdown",
      "metadata": {
        "id": "bKL700P0ZboQ"
      },
      "source": [
        "### B:String character replacement\n",
        "(Time limit: 2 seconds)\n",
        "\n",
        "__Problem Description:__\n",
        "The most talked about A Kun is that the chief always asks him to change the file, because the chief of A Kun is not very good at typing, and often phonetic not to choose words, so there are a lot of typos. Please write a program to help A Kun replace the same word with another word in the string.\n",
        "\n",
        "__Input description:__\n",
        "\n",
        "Enter a string (String) and 2 characters (char).\n",
        "\n",
        "__Output description:__\n",
        "\n",
        "Output the replaced string (String), there must be a newline character at the end.\n",
        "\n",
        "__Example:__\n",
        "\t\n",
        "| Sample Input:   |      Sample Output:      |\n",
        "|:----------------|:-------------------------|\n",
        "|asia csie taiwan| as1a cs1e ta1wan⏎|\n",
        "|i   | |\n",
        "|1||"
      ]
    },
    {
      "cell_type": "code",
      "metadata": {
        "id": "h-cOLrtUrrPe"
      },
      "source": [
        "#input 1\n"
      ],
      "execution_count": null,
      "outputs": []
    },
    {
      "cell_type": "markdown",
      "metadata": {
        "id": "-rXNZTf3ZTtW"
      },
      "source": [
        "### C: Digital encryption\n",
        "(Time limit: 2 seconds)\n",
        "\n",
        "Problem Description:\n",
        "  Read a four-digit number and encrypt it in the following way\n",
        "1. After adding 7 to the digit, divide by 10 and replace the digit with the remainder\n",
        "2. Swap the number of the first digit with the number of the third digit\n",
        "3. Swap the second digit number with the fourth digit number\n",
        "\n",
        "Input description:\n",
        "Enter a four-digit string (String).\n",
        "\n",
        "Output description:\n",
        "Output the encrypted number string (String), there must be a newline character at the end.\n",
        "\n",
        "example:\n",
        "\n",
        "| Sample Input:   |      Sample Output:      |\n",
        "|:----------------|:-------------------------|\n",
        "|1234|0189⏎ |\n",
        "|4567|3412⏎ |\n",
        "|7891|6845⏎ |"
      ]
    },
    {
      "cell_type": "code",
      "metadata": {
        "id": "MxgfDdx5szGh"
      },
      "source": [
        "#input 1\n"
      ],
      "execution_count": null,
      "outputs": []
    },
    {
      "cell_type": "code",
      "source": [
        "#input 2\n"
      ],
      "metadata": {
        "id": "t20a9RZAy54L"
      },
      "execution_count": null,
      "outputs": []
    },
    {
      "cell_type": "code",
      "source": [
        "#input 3\n"
      ],
      "metadata": {
        "id": "LcT_MS_zy6BC"
      },
      "execution_count": null,
      "outputs": []
    },
    {
      "cell_type": "markdown",
      "metadata": {
        "id": "Z6QOpRxhbsNl"
      },
      "source": [
        "### D:Change problem\n",
        "(Time limit: 2 seconds)\n",
        "\n",
        "__Problem Description:__\n",
        "Suppose there are four types of ccoins: 1 dollar, 5 dollar, 10 dollar and 50 dollar. John's mother asked him to buy fruit at the vegetable market, and gave John n dollar, and the mother confessed that the number of change required for the boss to find Xiao Ming should be the least, and John went to the fruit stand to buy it. I have $a_1$ apples, $a_2$ oranges, and $a_3$ peaches. 1 apple is 18 dollar, 1 orange is 20 dollar, and 1 peach is 30 dollar. How many do the shop need to give change with coins of 1 dollar, 5 dollar, 10 dollar, 50 dollar, The number of coins is minimized.\n",
        "\n",
        "__Input description:__\n",
        "First enter the amount of money n mother gave to Xiaoming, and then enter $a_1, a_2, a_3$, where $n, a_1, a_2, a_3$ are integers (int), and $a_1×18+a_2×20+a_3×30$ Less than or equal to n.\n",
        "\n",
        "__Output description:__\n",
        "List the total number of 1 dollar, 5 dollar and 50 dollar for Xiaoming. If the money you bring is not enough to buy fruits, it will display \"0\", and there must be a newline character at the end.\n",
        "\n",
        "example:\n",
        "\n",
        "\n",
        "| Sample Input:   |      Sample Output:      |\n",
        "|:----------------|:-------------------------|\n",
        "|900 1 3 5|2|\n",
        "||0|\n",
        "||2|\n",
        "||13⏎|"
      ]
    },
    {
      "cell_type": "code",
      "metadata": {
        "id": "LkJ0uffFt6qJ"
      },
      "source": [
        "#input 1\n"
      ],
      "execution_count": null,
      "outputs": []
    },
    {
      "cell_type": "markdown",
      "metadata": {
        "id": "8hDpWYkOZuoW"
      },
      "source": [
        "### E: Season decision\n",
        "(Time limit: 2 seconds)\n",
        "\n",
        "__Problem Description:__\n",
        "Try to write a program, you can enter the month, and then determine that the season it belongs to is spring from March to May, summer from June to August, autumn from September to November, and winter from December to February.\n",
        "\n",
        "__Input description:__\n",
        "Enter the month (int).\n",
        "\n",
        "__Output description:__\n",
        "Output the season of the month (String), March to May is Spring (Spring), June to August is Summer (Summer), September to November is Autumn (Autumn), December to February is Winter (Winter), and finally There must be newline characters.\n",
        "\n",
        "example:\n",
        "\n",
        "| Sample Input:   |      Sample Output:      |\n",
        "|:----------------|:-------------------------|\n",
        "|3|Spring⏎ |\n",
        "|10|Autumn⏎|"
      ]
    },
    {
      "cell_type": "code",
      "metadata": {
        "id": "qLytoHGdwLJr"
      },
      "source": [
        "#input 1\n"
      ],
      "execution_count": null,
      "outputs": []
    },
    {
      "cell_type": "code",
      "metadata": {
        "id": "Z77hYtfnwgid"
      },
      "source": [
        "#input 2\n"
      ],
      "execution_count": null,
      "outputs": []
    },
    {
      "cell_type": "markdown",
      "metadata": {
        "id": "1rdvCnAYbVLx"
      },
      "source": [
        "### F: Calculate electricity bill\n",
        "(Time limit: 2 seconds)\n",
        "\n",
        "Problem Description:\n",
        "Enter the number of degrees used to convert the electricity bill for summer months and non-summer months\n",
        "\n",
        "| Per degree (yuan): | summer months: | non-summer months: |\n",
        "|:----------------|:-------------------------|:--- ----------------------|\n",
        "|The part below 120 degrees | 2.10 | 2.10 |\n",
        "|121-330 degree part | 3.02 | 2.68|\n",
        "|331-500 degree part | 4.39 | 3.61|\n",
        "|501-700 degree part | 4.97 | 4.01|\n",
        "|The part above 701 degrees | 5.63 | 4.50|\n",
        "\n",
        "\n",
        "Input description:\n",
        "The number of electric power used (int).\n",
        "\n",
        "Output description:\n",
        "The amount of summer months and non-summer months (float), please output to two decimal places, and there must be a newline character at the end.\n",
        "\n",
        "example:\n",
        "\n",
        "| Sample Input:   |      Sample Output:      |\n",
        "|:----------------|:-------------------------|\n",
        "|525\t| 1756.75 |\n",
        "|   |1528.75⏎ |\n"
      ]
    },
    {
      "cell_type": "code",
      "metadata": {
        "id": "UwO6J-S8x5I9"
      },
      "source": [
        "#input 1\n"
      ],
      "execution_count": null,
      "outputs": []
    },
    {
      "cell_type": "markdown",
      "metadata": {
        "id": "7um54VyQZx8k"
      },
      "source": [
        "### G: Triangle decision\n",
        "(Time limit: 2 seconds)\n",
        "\n",
        "Problem Description:\n",
        "Let the user input the three-side lengths a, b, c (and a ≤ b ≤ c) of the triangle, judge and output whether a, b, c are legal three-side lengths.\n",
        "\n",
        "Input description:\n",
        "Enter the three sides of the triangle a, b, c (and a ≤ b ≤ c ).\n",
        "\n",
        "Output description:\n",
        "Whether the output is a legal three-sided length, there must be a newline character at the end.\n",
        "\n",
        "example:\n",
        "\n",
        "| Sample Input:   |      Sample Output:      |\n",
        "|:----------------|:-------------------------|\n",
        "|7 9 8\t|False⏎ |\n",
        "|4 1 2\t|False⏎ |\n",
        "|3 4 5  |True⏎ |\n",
        "|1 2 3\t|False⏎ |"
      ]
    },
    {
      "cell_type": "code",
      "metadata": {
        "id": "KJ6ZLpKAzen5"
      },
      "source": [
        "#input 1"
      ],
      "execution_count": null,
      "outputs": []
    },
    {
      "cell_type": "code",
      "source": [
        "#input 2"
      ],
      "metadata": {
        "id": "dyRSArl3xnPi"
      },
      "execution_count": null,
      "outputs": []
    },
    {
      "cell_type": "code",
      "source": [
        "#input 3"
      ],
      "metadata": {
        "id": "HR9TgHVCxn72"
      },
      "execution_count": null,
      "outputs": []
    },
    {
      "cell_type": "code",
      "source": [
        "#input 4"
      ],
      "metadata": {
        "id": "NLWVXNOaxoyz"
      },
      "execution_count": null,
      "outputs": []
    },
    {
      "cell_type": "markdown",
      "metadata": {
        "id": "PiEB2e3XZ2vI"
      },
      "source": [
        "### H: Triangle classification\n",
        "(Time limit: 2 seconds)\n",
        "\n",
        "__Problem Description:__\n",
        "Let the user enter the lengths a, b, c of a legal triangle (and $a ≤ b ≤ c$ ), determine and output the triangle as \"Right triangle\" and \"Obtuse triangle\" , Or \"Acute triangle\".\n",
        "\n",
        "Judgment method:\n",
        "\n",
        "Suppose the three side lengths of the triangle are a, b, c, where c is the longest side length, calculate it\n",
        "\n",
        "if\n",
        "$a^2+b^2<c^2$\n",
        "Then the obtuse triangle is the angle corresponding to c.\n",
        "\n",
        "If $a^2+b^2=c^2$\n",
        "Then the right angle of a right triangle is located at the angle corresponding to c.\n",
        "\n",
        "If $a^2+b^2>c^2$\n",
        "Then it is an acute triangle, the angles corresponding to the three sides of a, b, c are all acute angles\n",
        "\n",
        "__Input description:__\n",
        "Enter the length of the three sides of a legal triangle a (int), b (int), c(int) (and $a ≤ b ≤ c$ ).\n",
        "\n",
        "__Output description:__\n",
        "Determine and output that the triangle is \"Right triangle\", \"Obtuse triangle\", or \"Acute triangle\", and there must be a line feed character at the end.\n",
        "\n",
        "example:\n",
        "\n",
        "| Sample Input:   |      Sample Output:      |\n",
        "|:----------------|:-------------------------|\n",
        "|3 4 5\t|Right triangle⏎ |\n",
        "|2 3 4\t|Obtuse triangle⏎ |\n",
        "|4 5 6  |Acute triangle⏎ |"
      ]
    },
    {
      "cell_type": "code",
      "metadata": {
        "id": "EXNfqz0X04pZ"
      },
      "source": [
        "#input 1\n"
      ],
      "execution_count": null,
      "outputs": []
    },
    {
      "cell_type": "code",
      "metadata": {
        "id": "wOwCTRbo02o8"
      },
      "source": [
        "#input 2\n"
      ],
      "execution_count": null,
      "outputs": []
    },
    {
      "cell_type": "code",
      "metadata": {
        "id": "eAX8zxrE_PGs"
      },
      "source": [
        "#input 3"
      ],
      "execution_count": null,
      "outputs": []
    }
  ]
}